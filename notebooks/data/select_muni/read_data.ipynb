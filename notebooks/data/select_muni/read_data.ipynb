{
 "cells": [
  {
   "cell_type": "markdown",
   "id": "7b7f94fb-42d4-47ce-bbbf-02336d699ba7",
   "metadata": {},
   "source": [
    "## Selección de áreas a trabajar"
   ]
  },
  {
   "cell_type": "markdown",
   "id": "aa87bd23-b81d-46e4-8be6-4215ed40e94e",
   "metadata": {},
   "source": [
    "Este script automatiza el análisis espacial y productivo de los municipios colombianos para seleccionar las mejores áreas para trabajar con aguacate. Integra y procesa cuatro fuentes de datos:\n",
    "\n",
    "1. Producción agropecuaria (EVA) – Filtra municipios con cultivo de aguacate (año 2018).\n",
    "2. Estaciones IDEAM activas – Cuenta estaciones climáticas por municipio.\n",
    "3. Áreas protegidas (RUNAP) – Evalúa la superposición con zonas de conservación.\n",
    "4. Municipios (shapefile) – Une todos los datos espaciales y estadísticos.\n",
    "5. Calcula un SCORE ponderado por municipio (80% producción, 15% estaciones, 5% RUNAP) y muestra: El Top 10 con mejor potencial para producción de aguacate.\n",
    "6. Un análisis detallado de municipios específicos de interés (URRAO, PÁCORA y CAJIBÍO)."
   ]
  },
  {
   "cell_type": "code",
   "execution_count": 4,
   "id": "28793b13-fb33-44df-ad0b-fcbfbdd11b4b",
   "metadata": {},
   "outputs": [],
   "source": [
    "# Añadir la carpeta src al path (ajustado para Jupyter Notebook)\n",
    "import sys\n",
    "import os\n",
    "sys.path.append(os.path.abspath('../src'))"
   ]
  },
  {
   "cell_type": "code",
   "execution_count": 7,
   "id": "d9dd9700-a12c-44c6-ba18-82e4f7d77d17",
   "metadata": {},
   "outputs": [
    {
     "name": "stdout",
     "output_type": "stream",
     "text": [
      "📁 Carpeta raíz utilizada: /notebooks/docs\n",
      "✅ SHAPE_MUN encontrado en /notebooks/docs/municipios_colombia.shp\n",
      "✅ EVA_CSV encontrado en /notebooks/docs/Evaluaciones_Agropecuarias_Municipales_EVA.csv\n",
      "✅ EST_CSV encontrado en /notebooks/docs/Catalogo_Estaciones_IDEAM.csv\n",
      "✅ RUNAP encontrado en /notebooks/docs/runap.shp\n",
      "🔄 Cargando datos...\n",
      "✅ Cargado: 1,122 municipios • 5,491 estaciones • 206,068 EVA • 1,785 RUNAP\n",
      "📊 Procesando producción de aguacate...\n",
      "📆 Filtrando por año: 2018\n",
      "✅ 498 municipios con producción registrada\n",
      "📡 Procesando estaciones IDEAM...\n",
      "✅ 979 municipios con estaciones IDEAM\n",
      "🌱 Procesando áreas RUNAP...\n",
      "✅ 789 municipios con presencia RUNAP\n",
      "🧮 Calculando SCORE final...\n",
      "✅ SCORE calculado\n",
      "🏆 Top 10 municipios con mayor SCORE y producción registrada:\n",
      "     MPIO_CCDGO              MPIO_CNMBR     SCORE  produccion_t  area_ha  \\\n",
      "401       05847                   URRAO  0.811452       53328.0   2490.0   \n",
      "1080      73283                  FRESNO  0.458408       30350.0   6555.0   \n",
      "254       17513                  PÁCORA  0.400052       26460.0   1890.0   \n",
      "323       05756                  SONSÓN  0.312363       20250.0   2050.0   \n",
      "501       13244    EL CARMEN DE BOLÍVAR  0.287021       18800.0   2140.0   \n",
      "273       66318                 GUÁTICA  0.192804       12600.0   1700.0   \n",
      "268       66001                 PEREIRA  0.153482        8589.0   1141.0   \n",
      "367       05607                  RETIRO  0.149933        9560.0    623.0   \n",
      "229       17001               MANIZALES  0.140899        6021.0    548.0   \n",
      "1003      68689  SAN VICENTE DE CHUCURÍ  0.140433        8775.0    618.0   \n",
      "\n",
      "      rendimiento_t_ha  num_estaciones  has_runap  \n",
      "401          21.416867            17.0       True  \n",
      "1080          4.630053             5.0      False  \n",
      "254          14.000000             5.0       True  \n",
      "323           9.878049            12.0       True  \n",
      "501           8.785047             8.0       True  \n",
      "273           7.411765             6.0       True  \n",
      "268           7.527607            39.0       True  \n",
      "367          15.345104            10.0       True  \n",
      "229          10.987226            81.0       True  \n",
      "1003         14.199029            11.0       True  \n",
      "\n",
      "🔎 Verificando municipios específicos por código:\n",
      "    MPIO_CCDGO MPIO_CNMBR     SCORE  produccion_t  area_ha  rendimiento_t_ha  \\\n",
      "401      05847      URRAO  0.811452       53328.0   2490.0         21.416867   \n",
      "254      17513     PÁCORA  0.400052       26460.0   1890.0         14.000000   \n",
      "22       19130    CAJIBÍO  0.010463         324.0     61.0          5.311475   \n",
      "\n",
      "     num_estaciones  has_runap  \n",
      "401            17.0       True  \n",
      "254             5.0       True  \n",
      "22              9.0       True  \n"
     ]
    }
   ],
   "source": [
    "# Importar funciones desde el archivo ubicado en /notebooks/src/data_select_muni.py\n",
    "from data_select_muni import procesar_datos_completos, filtrar_municipios_por_codigo\n",
    "\n",
    "# Ejecutamos procesamiento completo\n",
    "df_score, top10 = procesar_datos_completos()\n",
    "\n",
    "# Mostramos el top 10\n",
    "print(\"🏆 Top 10 municipios con mayor SCORE y producción registrada:\")\n",
    "print(top10[[\n",
    "    \"MPIO_CCDGO\", \"MPIO_CNMBR\", \"SCORE\",\n",
    "    \"produccion_t\", \"area_ha\", \"rendimiento_t_ha\",\n",
    "    \"num_estaciones\", \"has_runap\"\n",
    "]])\n",
    "\n",
    "# Municipios específicos a revisar\n",
    "codigos_interes = [\"05847\", \"17513\", \"19130\"]  # URRAO, PÁCORA, CAJIBÍO\n",
    "df_interes = filtrar_municipios_por_codigo(df_score, codigos_interes)\n",
    "\n",
    "print(\"\\n🔎 Verificando municipios específicos por código:\")\n",
    "print(df_interes[[\n",
    "    \"MPIO_CCDGO\", \"MPIO_CNMBR\", \"SCORE\",\n",
    "    \"produccion_t\", \"area_ha\", \"rendimiento_t_ha\",\n",
    "    \"num_estaciones\", \"has_runap\"\n",
    "]])\n"
   ]
  },
  {
   "cell_type": "code",
   "execution_count": null,
   "id": "10676b60-8c45-4911-9905-a3cea8c87d45",
   "metadata": {},
   "outputs": [],
   "source": []
  }
 ],
 "metadata": {
  "kernelspec": {
   "display_name": "Python 3 (ipykernel)",
   "language": "python",
   "name": "python3"
  },
  "language_info": {
   "codemirror_mode": {
    "name": "ipython",
    "version": 3
   },
   "file_extension": ".py",
   "mimetype": "text/x-python",
   "name": "python",
   "nbconvert_exporter": "python",
   "pygments_lexer": "ipython3",
   "version": "3.11.9"
  }
 },
 "nbformat": 4,
 "nbformat_minor": 5
}
